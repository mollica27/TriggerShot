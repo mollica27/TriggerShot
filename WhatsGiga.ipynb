{
 "cells": [
  {
   "cell_type": "code",
   "execution_count": 5,
   "id": "da9750f1",
   "metadata": {},
   "outputs": [
    {
     "ename": "WebDriverException",
     "evalue": "Message: chrome not reachable\n  (Session info: chrome=104.0.5112.80)\nStacktrace:\nBacktrace:\n\tOrdinal0 [0x005678B3+2193587]\n\tOrdinal0 [0x00500681+1771137]\n\tOrdinal0 [0x00414070+802928]\n\tOrdinal0 [0x00409AB2+760498]\n\tOrdinal0 [0x003FCEAF+708271]\n\tOrdinal0 [0x00401142+725314]\n\tOrdinal0 [0x004055C9+742857]\n\tOrdinal0 [0x00415500+808192]\n\tOrdinal0 [0x0046D2C2+1168066]\n\tOrdinal0 [0x0045D5C6+1103302]\n\tOrdinal0 [0x004377E0+948192]\n\tOrdinal0 [0x004386E6+952038]\n\tGetHandleVerifier [0x00810CB2+2738370]\n\tGetHandleVerifier [0x008021B8+2678216]\n\tGetHandleVerifier [0x005F17AA+512954]\n\tGetHandleVerifier [0x005F0856+509030]\n\tOrdinal0 [0x0050743B+1799227]\n\tOrdinal0 [0x0050BB68+1817448]\n\tOrdinal0 [0x0050BC55+1817685]\n\tOrdinal0 [0x00515230+1856048]\n\tBaseThreadInitThunk [0x76886739+25]\n\tRtlGetFullPathName_UEx [0x77688FEF+1215]\n\tRtlGetFullPathName_UEx [0x77688FBD+1165]\n",
     "output_type": "error",
     "traceback": [
      "\u001b[1;31m---------------------------------------------------------------------------\u001b[0m",
      "\u001b[1;31mWebDriverException\u001b[0m                        Traceback (most recent call last)",
      "\u001b[1;32mc:\\Users\\Natan Molica\\Downloads\\TriggerShot\\WhatsGiga.ipynb Célula: 1\u001b[0m in \u001b[0;36m<cell line: 46>\u001b[1;34m()\u001b[0m\n\u001b[0;32m     <a href='vscode-notebook-cell:/c%3A/Users/Natan%20Molica/Downloads/TriggerShot/WhatsGiga.ipynb#W0sZmlsZQ%3D%3D?line=42'>43</a>\u001b[0m     time\u001b[39m.\u001b[39msleep(\u001b[39m8\u001b[39m)\n\u001b[0;32m     <a href='vscode-notebook-cell:/c%3A/Users/Natan%20Molica/Downloads/TriggerShot/WhatsGiga.ipynb#W0sZmlsZQ%3D%3D?line=43'>44</a>\u001b[0m     pg\u001b[39m.\u001b[39mhotkey(\u001b[39m'\u001b[39m\u001b[39mF5\u001b[39m\u001b[39m'\u001b[39m)\n\u001b[1;32m---> <a href='vscode-notebook-cell:/c%3A/Users/Natan%20Molica/Downloads/TriggerShot/WhatsGiga.ipynb#W0sZmlsZQ%3D%3D?line=45'>46</a>\u001b[0m \u001b[39mwhile\u001b[39;00m \u001b[39mlen\u001b[39m(navegador\u001b[39m.\u001b[39;49mfind_elements(By\u001b[39m.\u001b[39;49mXPATH,\u001b[39m'\u001b[39;49m\u001b[39m//*[@id=\u001b[39;49m\u001b[39m\"\u001b[39;49m\u001b[39mapp\u001b[39;49m\u001b[39m\"\u001b[39;49m\u001b[39m]/div/div/div[4]/div/div/div[1]/span\u001b[39;49m\u001b[39m'\u001b[39;49m)) \u001b[39m<\u001b[39m \u001b[39m1\u001b[39m:\n\u001b[0;32m     <a href='vscode-notebook-cell:/c%3A/Users/Natan%20Molica/Downloads/TriggerShot/WhatsGiga.ipynb#W0sZmlsZQ%3D%3D?line=46'>47</a>\u001b[0m     time\u001b[39m.\u001b[39msleep(\u001b[39m1\u001b[39m)\n\u001b[0;32m     <a href='vscode-notebook-cell:/c%3A/Users/Natan%20Molica/Downloads/TriggerShot/WhatsGiga.ipynb#W0sZmlsZQ%3D%3D?line=47'>48</a>\u001b[0m     pg\u001b[39m.\u001b[39mpress(\u001b[39m'\u001b[39m\u001b[39mf5\u001b[39m\u001b[39m'\u001b[39m)\n",
      "File \u001b[1;32mc:\\Users\\Natan Molica\\anaconda3\\lib\\site-packages\\selenium\\webdriver\\remote\\webdriver.py:890\u001b[0m, in \u001b[0;36mWebDriver.find_elements\u001b[1;34m(self, by, value)\u001b[0m\n\u001b[0;32m    886\u001b[0m     value \u001b[39m=\u001b[39m \u001b[39m'\u001b[39m\u001b[39m[name=\u001b[39m\u001b[39m\"\u001b[39m\u001b[39m%s\u001b[39;00m\u001b[39m\"\u001b[39m\u001b[39m]\u001b[39m\u001b[39m'\u001b[39m \u001b[39m%\u001b[39m value\n\u001b[0;32m    888\u001b[0m \u001b[39m# Return empty list if driver returns null\u001b[39;00m\n\u001b[0;32m    889\u001b[0m \u001b[39m# See https://github.com/SeleniumHQ/selenium/issues/4555\u001b[39;00m\n\u001b[1;32m--> 890\u001b[0m \u001b[39mreturn\u001b[39;00m \u001b[39mself\u001b[39;49m\u001b[39m.\u001b[39;49mexecute(Command\u001b[39m.\u001b[39;49mFIND_ELEMENTS, {\n\u001b[0;32m    891\u001b[0m     \u001b[39m'\u001b[39;49m\u001b[39musing\u001b[39;49m\u001b[39m'\u001b[39;49m: by,\n\u001b[0;32m    892\u001b[0m     \u001b[39m'\u001b[39;49m\u001b[39mvalue\u001b[39;49m\u001b[39m'\u001b[39;49m: value})[\u001b[39m'\u001b[39m\u001b[39mvalue\u001b[39m\u001b[39m'\u001b[39m] \u001b[39mor\u001b[39;00m []\n",
      "File \u001b[1;32mc:\\Users\\Natan Molica\\anaconda3\\lib\\site-packages\\selenium\\webdriver\\remote\\webdriver.py:435\u001b[0m, in \u001b[0;36mWebDriver.execute\u001b[1;34m(self, driver_command, params)\u001b[0m\n\u001b[0;32m    433\u001b[0m response \u001b[39m=\u001b[39m \u001b[39mself\u001b[39m\u001b[39m.\u001b[39mcommand_executor\u001b[39m.\u001b[39mexecute(driver_command, params)\n\u001b[0;32m    434\u001b[0m \u001b[39mif\u001b[39;00m response:\n\u001b[1;32m--> 435\u001b[0m     \u001b[39mself\u001b[39;49m\u001b[39m.\u001b[39;49merror_handler\u001b[39m.\u001b[39;49mcheck_response(response)\n\u001b[0;32m    436\u001b[0m     response[\u001b[39m'\u001b[39m\u001b[39mvalue\u001b[39m\u001b[39m'\u001b[39m] \u001b[39m=\u001b[39m \u001b[39mself\u001b[39m\u001b[39m.\u001b[39m_unwrap_value(\n\u001b[0;32m    437\u001b[0m         response\u001b[39m.\u001b[39mget(\u001b[39m'\u001b[39m\u001b[39mvalue\u001b[39m\u001b[39m'\u001b[39m, \u001b[39mNone\u001b[39;00m))\n\u001b[0;32m    438\u001b[0m     \u001b[39mreturn\u001b[39;00m response\n",
      "File \u001b[1;32mc:\\Users\\Natan Molica\\anaconda3\\lib\\site-packages\\selenium\\webdriver\\remote\\errorhandler.py:247\u001b[0m, in \u001b[0;36mErrorHandler.check_response\u001b[1;34m(self, response)\u001b[0m\n\u001b[0;32m    245\u001b[0m         alert_text \u001b[39m=\u001b[39m value[\u001b[39m'\u001b[39m\u001b[39malert\u001b[39m\u001b[39m'\u001b[39m]\u001b[39m.\u001b[39mget(\u001b[39m'\u001b[39m\u001b[39mtext\u001b[39m\u001b[39m'\u001b[39m)\n\u001b[0;32m    246\u001b[0m     \u001b[39mraise\u001b[39;00m exception_class(message, screen, stacktrace, alert_text)  \u001b[39m# type: ignore[call-arg]  # mypy is not smart enough here\u001b[39;00m\n\u001b[1;32m--> 247\u001b[0m \u001b[39mraise\u001b[39;00m exception_class(message, screen, stacktrace)\n",
      "\u001b[1;31mWebDriverException\u001b[0m: Message: chrome not reachable\n  (Session info: chrome=104.0.5112.80)\nStacktrace:\nBacktrace:\n\tOrdinal0 [0x005678B3+2193587]\n\tOrdinal0 [0x00500681+1771137]\n\tOrdinal0 [0x00414070+802928]\n\tOrdinal0 [0x00409AB2+760498]\n\tOrdinal0 [0x003FCEAF+708271]\n\tOrdinal0 [0x00401142+725314]\n\tOrdinal0 [0x004055C9+742857]\n\tOrdinal0 [0x00415500+808192]\n\tOrdinal0 [0x0046D2C2+1168066]\n\tOrdinal0 [0x0045D5C6+1103302]\n\tOrdinal0 [0x004377E0+948192]\n\tOrdinal0 [0x004386E6+952038]\n\tGetHandleVerifier [0x00810CB2+2738370]\n\tGetHandleVerifier [0x008021B8+2678216]\n\tGetHandleVerifier [0x005F17AA+512954]\n\tGetHandleVerifier [0x005F0856+509030]\n\tOrdinal0 [0x0050743B+1799227]\n\tOrdinal0 [0x0050BB68+1817448]\n\tOrdinal0 [0x0050BC55+1817685]\n\tOrdinal0 [0x00515230+1856048]\n\tBaseThreadInitThunk [0x76886739+25]\n\tRtlGetFullPathName_UEx [0x77688FEF+1215]\n\tRtlGetFullPathName_UEx [0x77688FBD+1165]\n"
     ]
    }
   ],
   "source": [
    "import pandas as pd\n",
    "\n",
    "contatos_df = pd.read_excel(\"Enviar.xlsx\")\n",
    "\n",
    "from selenium import webdriver\n",
    "from webdriver_manager.chrome import ChromeDriverManager\n",
    "from selenium.webdriver.chrome.service import Service\n",
    "from selenium.webdriver.common.by import By\n",
    "from selenium.webdriver.common.keys import Keys\n",
    "import time\n",
    "import urllib\n",
    "import pyautogui as pg\n",
    "\n",
    "servico = Service(ChromeDriverManager().install())\n",
    "\n",
    "navegador = webdriver.Chrome(service=servico)\n",
    "navegador.get(\"https://web.whatsapp.com/\")\n",
    "\n",
    "while len(navegador.find_elements(By.ID,'side')) < 1:\n",
    "    time.sleep(1)\n",
    "\n",
    "# já estamos com o login feito no whatsapp web\n",
    "first = True\n",
    "\n",
    "for i, mensagem in enumerate(contatos_df['Mensagem']):\n",
    "    pessoa = contatos_df.loc[i, \"Pessoa\"]\n",
    "    numero = contatos_df.loc[i, \"Número\"]\n",
    "    texto = urllib.parse.quote(f\"{mensagem}\")\n",
    "    link = f\"https://web.whatsapp.com/send?phone={numero}&text={texto}\"\n",
    "    navegador.get(link)\n",
    "\n",
    "    if first:\n",
    "        time.sleep(8)\n",
    "        first=False\n",
    "    \n",
    "    time.sleep(5)\n",
    "    pg.press('esc')\n",
    "    pg.press('esc')\n",
    "    time.sleep(5)\n",
    "    pg.press('enter')\n",
    "    pg.press('esc')\n",
    "    #navegador.find_element(By.XPATH, '//*[@id=\"main\"]/footer/div[1]/div/span[2]/div/div[2]/div[2]/button/span').click()\n",
    "    time.sleep(8)\n",
    "    pg.hotkey('F5')\n",
    "\n",
    "while len(navegador.find_elements(By.XPATH,'//*[@id=\"app\"]/div/div/div[4]/div/div/div[1]/span')) < 1:\n",
    "    time.sleep(5)\n",
    "    pg.press('f5')\n",
    "    \n",
    "        \n",
    "\n",
    "    "
   ]
  },
  {
   "cell_type": "code",
   "execution_count": null,
   "id": "e1a300b5",
   "metadata": {},
   "outputs": [],
   "source": []
  },
  {
   "cell_type": "code",
   "execution_count": null,
   "id": "0b0da2b7",
   "metadata": {},
   "outputs": [],
   "source": []
  }
 ],
 "metadata": {
  "kernelspec": {
   "display_name": "Python 3.9.12 ('base')",
   "language": "python",
   "name": "python3"
  },
  "language_info": {
   "codemirror_mode": {
    "name": "ipython",
    "version": 3
   },
   "file_extension": ".py",
   "mimetype": "text/x-python",
   "name": "python",
   "nbconvert_exporter": "python",
   "pygments_lexer": "ipython3",
   "version": "3.9.12"
  },
  "vscode": {
   "interpreter": {
    "hash": "570a6cd6fa058521507757ba93289ca56b4c7dde888b86f0e67e32b01fa94eba"
   }
  }
 },
 "nbformat": 4,
 "nbformat_minor": 5
}
