{
 "cells": [
  {
   "cell_type": "code",
   "execution_count": 14,
   "id": "da9750f1",
   "metadata": {},
   "outputs": [
    {
     "ename": "KeyboardInterrupt",
     "evalue": "",
     "output_type": "error",
     "traceback": [
      "\u001b[1;31m---------------------------------------------------------------------------\u001b[0m",
      "\u001b[1;31mKeyboardInterrupt\u001b[0m                         Traceback (most recent call last)",
      "\u001b[1;32mc:\\Users\\Natan Molica\\Downloads\\TriggerShot\\WhatsGiga.ipynb Célula: 1\u001b[0m in \u001b[0;36m<cell line: 19>\u001b[1;34m()\u001b[0m\n\u001b[0;32m     <a href='vscode-notebook-cell:/c%3A/Users/Natan%20Molica/Downloads/TriggerShot/WhatsGiga.ipynb#W0sZmlsZQ%3D%3D?line=16'>17</a>\u001b[0m navegador\u001b[39m.\u001b[39mget(\u001b[39m\"\u001b[39m\u001b[39mhttps://web.whatsapp.com/\u001b[39m\u001b[39m\"\u001b[39m)\n\u001b[0;32m     <a href='vscode-notebook-cell:/c%3A/Users/Natan%20Molica/Downloads/TriggerShot/WhatsGiga.ipynb#W0sZmlsZQ%3D%3D?line=18'>19</a>\u001b[0m \u001b[39mwhile\u001b[39;00m \u001b[39mlen\u001b[39m(navegador\u001b[39m.\u001b[39mfind_elements(By\u001b[39m.\u001b[39mID,\u001b[39m'\u001b[39m\u001b[39mside\u001b[39m\u001b[39m'\u001b[39m)) \u001b[39m<\u001b[39m \u001b[39m1\u001b[39m:\n\u001b[1;32m---> <a href='vscode-notebook-cell:/c%3A/Users/Natan%20Molica/Downloads/TriggerShot/WhatsGiga.ipynb#W0sZmlsZQ%3D%3D?line=19'>20</a>\u001b[0m     time\u001b[39m.\u001b[39;49msleep(\u001b[39m1\u001b[39;49m)\n\u001b[0;32m     <a href='vscode-notebook-cell:/c%3A/Users/Natan%20Molica/Downloads/TriggerShot/WhatsGiga.ipynb#W0sZmlsZQ%3D%3D?line=21'>22</a>\u001b[0m \u001b[39m# já estamos com o login feito no whatsapp web\u001b[39;00m\n\u001b[0;32m     <a href='vscode-notebook-cell:/c%3A/Users/Natan%20Molica/Downloads/TriggerShot/WhatsGiga.ipynb#W0sZmlsZQ%3D%3D?line=22'>23</a>\u001b[0m first \u001b[39m=\u001b[39m \u001b[39mTrue\u001b[39;00m\n",
      "\u001b[1;31mKeyboardInterrupt\u001b[0m: "
     ]
    }
   ],
   "source": [
    "import pandas as pd\n",
    "\n",
    "contatos_df = pd.read_excel(\"Enviar.xlsx\")\n",
    "\n",
    "from selenium import webdriver\n",
    "from webdriver_manager.chrome import ChromeDriverManager\n",
    "from selenium.webdriver.chrome.service import Service\n",
    "from selenium.webdriver.common.by import By\n",
    "from selenium.webdriver.common.keys import Keys\n",
    "import time\n",
    "import urllib\n",
    "import pyautogui as pg\n",
    "\n",
    "servico = Service(ChromeDriverManager().install())\n",
    "\n",
    "navegador = webdriver.Chrome(service=servico)\n",
    "navegador.get(\"https://web.whatsapp.com/\")\n",
    "\n",
    "while len(navegador.find_elements(By.ID,'side')) < 1:\n",
    "    time.sleep(1)\n",
    "\n",
    "# já estamos com o login feito no whatsapp web\n",
    "first = True\n",
    "\n",
    "for i, mensagem in enumerate(contatos_df['Mensagem']):\n",
    "    pessoa = contatos_df.loc[i, \"Pessoa\"]\n",
    "    numero = contatos_df.loc[i, \"Número\"]\n",
    "    texto = urllib.parse.quote(f\"{mensagem}\")\n",
    "    link = f\"https://web.whatsapp.com/send?phone={numero}&text={texto}\"\n",
    "    navegador.get(link)\n",
    "\n",
    "    if first:\n",
    "        time.sleep(8)\n",
    "        first=False\n",
    "    \n",
    "    time.sleep(5)\n",
    "    pg.press('esc')\n",
    "    pg.press('esc')\n",
    "    time.sleep(8)\n",
    "    pg.press('enter')\n",
    "    pg.press('esc')\n",
    "    pg.press('esc')\n",
    "    time.sleep(8)\n",
    "    pg.hotkey('F5')\n",
    "\n",
    "\n",
    "while len(navegador.find_elements(By.XPATH,'//*[@id=\"app\"]/div/div/div[4]/div/div/div[1]/span')) < 1:\n",
    "    time.sleep(5)\n",
    "    pg.hotkey('ctrl', 'w')\n",
    "    \n",
    "        \n",
    "\n",
    "    "
   ]
  },
  {
   "cell_type": "code",
   "execution_count": null,
   "id": "e1a300b5",
   "metadata": {},
   "outputs": [],
   "source": []
  },
  {
   "cell_type": "code",
   "execution_count": null,
   "id": "0b0da2b7",
   "metadata": {},
   "outputs": [],
   "source": []
  }
 ],
 "metadata": {
  "kernelspec": {
   "display_name": "Python 3.9.12 ('base')",
   "language": "python",
   "name": "python3"
  },
  "language_info": {
   "codemirror_mode": {
    "name": "ipython",
    "version": 3
   },
   "file_extension": ".py",
   "mimetype": "text/x-python",
   "name": "python",
   "nbconvert_exporter": "python",
   "pygments_lexer": "ipython3",
   "version": "3.9.12"
  },
  "vscode": {
   "interpreter": {
    "hash": "570a6cd6fa058521507757ba93289ca56b4c7dde888b86f0e67e32b01fa94eba"
   }
  }
 },
 "nbformat": 4,
 "nbformat_minor": 5
}
