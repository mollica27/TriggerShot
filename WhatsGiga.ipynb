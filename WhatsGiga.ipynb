{
 "cells": [
  {
   "cell_type": "code",
   "execution_count": 9,
   "id": "da9750f1",
   "metadata": {},
   "outputs": [
    {
     "ename": "NoSuchElementException",
     "evalue": "Message: no such element: Unable to locate element: {\"method\":\"xpath\",\"selector\":\"//*[@id=\"main\"]/footer/div[1]/div/span[2]/div/div[2]/div[1]/div/div/p/span\"}\n  (Session info: chrome=103.0.5060.134)\nStacktrace:\nBacktrace:\n\tOrdinal0 [0x00C75FD3+2187219]\n\tOrdinal0 [0x00C0E6D1+1763025]\n\tOrdinal0 [0x00B23E78+802424]\n\tOrdinal0 [0x00B51C10+990224]\n\tOrdinal0 [0x00B51EAB+990891]\n\tOrdinal0 [0x00B7EC92+1174674]\n\tOrdinal0 [0x00B6CBD4+1100756]\n\tOrdinal0 [0x00B7CFC2+1167298]\n\tOrdinal0 [0x00B6C9A6+1100198]\n\tOrdinal0 [0x00B46F80+946048]\n\tOrdinal0 [0x00B47E76+949878]\n\tGetHandleVerifier [0x00F190C2+2721218]\n\tGetHandleVerifier [0x00F0AAF0+2662384]\n\tGetHandleVerifier [0x00D0137A+526458]\n\tGetHandleVerifier [0x00D00416+522518]\n\tOrdinal0 [0x00C14EAB+1789611]\n\tOrdinal0 [0x00C197A8+1808296]\n\tOrdinal0 [0x00C19895+1808533]\n\tOrdinal0 [0x00C226C1+1844929]\n\tBaseThreadInitThunk [0x76D16739+25]\n\tRtlGetFullPathName_UEx [0x77988FEF+1215]\n\tRtlGetFullPathName_UEx [0x77988FBD+1165]\n",
     "output_type": "error",
     "traceback": [
      "\u001b[1;31m---------------------------------------------------------------------------\u001b[0m",
      "\u001b[1;31mNoSuchElementException\u001b[0m                    Traceback (most recent call last)",
      "\u001b[1;32mc:\\Users\\Natan Molica\\Downloads\\TriggerShot\\WhatsGiga.ipynb Célula: 1\u001b[0m in \u001b[0;36m<cell line: 23>\u001b[1;34m()\u001b[0m\n\u001b[0;32m     <a href='vscode-notebook-cell:/c%3A/Users/Natan%20Molica/Downloads/TriggerShot/WhatsGiga.ipynb#ch0000000?line=31'>32</a>\u001b[0m time\u001b[39m.\u001b[39msleep(\u001b[39m5\u001b[39m)\n\u001b[0;32m     <a href='vscode-notebook-cell:/c%3A/Users/Natan%20Molica/Downloads/TriggerShot/WhatsGiga.ipynb#ch0000000?line=32'>33</a>\u001b[0m pyautogui\u001b[39m.\u001b[39mpress(\u001b[39m'\u001b[39m\u001b[39mESC\u001b[39m\u001b[39m'\u001b[39m)\n\u001b[1;32m---> <a href='vscode-notebook-cell:/c%3A/Users/Natan%20Molica/Downloads/TriggerShot/WhatsGiga.ipynb#ch0000000?line=33'>34</a>\u001b[0m navegador\u001b[39m.\u001b[39;49mfind_element(By\u001b[39m.\u001b[39;49mXPATH, \u001b[39m'\u001b[39;49m\u001b[39m//*[@id=\u001b[39;49m\u001b[39m\"\u001b[39;49m\u001b[39mmain\u001b[39;49m\u001b[39m\"\u001b[39;49m\u001b[39m]/footer/div[1]/div/span[2]/div/div[2]/div[1]/div/div/p/span\u001b[39;49m\u001b[39m'\u001b[39;49m)\u001b[39m.\u001b[39msend_keys(Keys\u001b[39m.\u001b[39mENTER)\n\u001b[0;32m     <a href='vscode-notebook-cell:/c%3A/Users/Natan%20Molica/Downloads/TriggerShot/WhatsGiga.ipynb#ch0000000?line=34'>35</a>\u001b[0m time\u001b[39m.\u001b[39msleep(\u001b[39m10\u001b[39m)\n",
      "File \u001b[1;32mc:\\Users\\Natan Molica\\anaconda3\\lib\\site-packages\\selenium\\webdriver\\remote\\webdriver.py:857\u001b[0m, in \u001b[0;36mWebDriver.find_element\u001b[1;34m(self, by, value)\u001b[0m\n\u001b[0;32m    854\u001b[0m     by \u001b[39m=\u001b[39m By\u001b[39m.\u001b[39mCSS_SELECTOR\n\u001b[0;32m    855\u001b[0m     value \u001b[39m=\u001b[39m \u001b[39m'\u001b[39m\u001b[39m[name=\u001b[39m\u001b[39m\"\u001b[39m\u001b[39m%s\u001b[39;00m\u001b[39m\"\u001b[39m\u001b[39m]\u001b[39m\u001b[39m'\u001b[39m \u001b[39m%\u001b[39m value\n\u001b[1;32m--> 857\u001b[0m \u001b[39mreturn\u001b[39;00m \u001b[39mself\u001b[39;49m\u001b[39m.\u001b[39;49mexecute(Command\u001b[39m.\u001b[39;49mFIND_ELEMENT, {\n\u001b[0;32m    858\u001b[0m     \u001b[39m'\u001b[39;49m\u001b[39musing\u001b[39;49m\u001b[39m'\u001b[39;49m: by,\n\u001b[0;32m    859\u001b[0m     \u001b[39m'\u001b[39;49m\u001b[39mvalue\u001b[39;49m\u001b[39m'\u001b[39;49m: value})[\u001b[39m'\u001b[39m\u001b[39mvalue\u001b[39m\u001b[39m'\u001b[39m]\n",
      "File \u001b[1;32mc:\\Users\\Natan Molica\\anaconda3\\lib\\site-packages\\selenium\\webdriver\\remote\\webdriver.py:435\u001b[0m, in \u001b[0;36mWebDriver.execute\u001b[1;34m(self, driver_command, params)\u001b[0m\n\u001b[0;32m    433\u001b[0m response \u001b[39m=\u001b[39m \u001b[39mself\u001b[39m\u001b[39m.\u001b[39mcommand_executor\u001b[39m.\u001b[39mexecute(driver_command, params)\n\u001b[0;32m    434\u001b[0m \u001b[39mif\u001b[39;00m response:\n\u001b[1;32m--> 435\u001b[0m     \u001b[39mself\u001b[39;49m\u001b[39m.\u001b[39;49merror_handler\u001b[39m.\u001b[39;49mcheck_response(response)\n\u001b[0;32m    436\u001b[0m     response[\u001b[39m'\u001b[39m\u001b[39mvalue\u001b[39m\u001b[39m'\u001b[39m] \u001b[39m=\u001b[39m \u001b[39mself\u001b[39m\u001b[39m.\u001b[39m_unwrap_value(\n\u001b[0;32m    437\u001b[0m         response\u001b[39m.\u001b[39mget(\u001b[39m'\u001b[39m\u001b[39mvalue\u001b[39m\u001b[39m'\u001b[39m, \u001b[39mNone\u001b[39;00m))\n\u001b[0;32m    438\u001b[0m     \u001b[39mreturn\u001b[39;00m response\n",
      "File \u001b[1;32mc:\\Users\\Natan Molica\\anaconda3\\lib\\site-packages\\selenium\\webdriver\\remote\\errorhandler.py:247\u001b[0m, in \u001b[0;36mErrorHandler.check_response\u001b[1;34m(self, response)\u001b[0m\n\u001b[0;32m    245\u001b[0m         alert_text \u001b[39m=\u001b[39m value[\u001b[39m'\u001b[39m\u001b[39malert\u001b[39m\u001b[39m'\u001b[39m]\u001b[39m.\u001b[39mget(\u001b[39m'\u001b[39m\u001b[39mtext\u001b[39m\u001b[39m'\u001b[39m)\n\u001b[0;32m    246\u001b[0m     \u001b[39mraise\u001b[39;00m exception_class(message, screen, stacktrace, alert_text)  \u001b[39m# type: ignore[call-arg]  # mypy is not smart enough here\u001b[39;00m\n\u001b[1;32m--> 247\u001b[0m \u001b[39mraise\u001b[39;00m exception_class(message, screen, stacktrace)\n",
      "\u001b[1;31mNoSuchElementException\u001b[0m: Message: no such element: Unable to locate element: {\"method\":\"xpath\",\"selector\":\"//*[@id=\"main\"]/footer/div[1]/div/span[2]/div/div[2]/div[1]/div/div/p/span\"}\n  (Session info: chrome=103.0.5060.134)\nStacktrace:\nBacktrace:\n\tOrdinal0 [0x00C75FD3+2187219]\n\tOrdinal0 [0x00C0E6D1+1763025]\n\tOrdinal0 [0x00B23E78+802424]\n\tOrdinal0 [0x00B51C10+990224]\n\tOrdinal0 [0x00B51EAB+990891]\n\tOrdinal0 [0x00B7EC92+1174674]\n\tOrdinal0 [0x00B6CBD4+1100756]\n\tOrdinal0 [0x00B7CFC2+1167298]\n\tOrdinal0 [0x00B6C9A6+1100198]\n\tOrdinal0 [0x00B46F80+946048]\n\tOrdinal0 [0x00B47E76+949878]\n\tGetHandleVerifier [0x00F190C2+2721218]\n\tGetHandleVerifier [0x00F0AAF0+2662384]\n\tGetHandleVerifier [0x00D0137A+526458]\n\tGetHandleVerifier [0x00D00416+522518]\n\tOrdinal0 [0x00C14EAB+1789611]\n\tOrdinal0 [0x00C197A8+1808296]\n\tOrdinal0 [0x00C19895+1808533]\n\tOrdinal0 [0x00C226C1+1844929]\n\tBaseThreadInitThunk [0x76D16739+25]\n\tRtlGetFullPathName_UEx [0x77988FEF+1215]\n\tRtlGetFullPathName_UEx [0x77988FBD+1165]\n"
     ]
    }
   ],
   "source": [
    "import pandas as pd\n",
    "\n",
    "contatos_df = pd.read_excel(\"Enviar.xlsx\")\n",
    "\n",
    "from selenium import webdriver\n",
    "from webdriver_manager.chrome import ChromeDriverManager\n",
    "from selenium.webdriver.chrome.service import Service\n",
    "from selenium.webdriver.common.by import By\n",
    "from selenium.webdriver.common.keys import Keys\n",
    "import time\n",
    "import urllib\n",
    "import pyautogui\n",
    "\n",
    "servico = Service(ChromeDriverManager().install())\n",
    "\n",
    "navegador = webdriver.Chrome(service=servico)\n",
    "navegador.get(\"https://web.whatsapp.com/\")\n",
    "\n",
    "while len(navegador.find_elements(By.ID,'side')) < 1:\n",
    "    time.sleep(1)\n",
    "\n",
    "# já estamos com o login feito no whatsapp web\n",
    "for i, mensagem in enumerate(contatos_df['Mensagem']):\n",
    "    pessoa = contatos_df.loc[i, \"Pessoa\"]\n",
    "    numero = contatos_df.loc[i, \"Número\"]\n",
    "    texto = urllib.parse.quote(f\"{mensagem}\")\n",
    "    link = f\"https://web.whatsapp.com/send?phone={numero}&text={texto}\"\n",
    "    navegador.get(link)\n",
    "    \n",
    "    \n",
    "    while len(navegador.find_elements(By.ID,'side')) < 1:\n",
    "        time.sleep(5)\n",
    "        pyautogui.press('ESC')\n",
    "        navegador.find_element(By.XPATH, '//*[@id=\"main\"]/footer/div[1]/div/span[2]/div/div[2]/div[1]/div/div/p/span').send_keys(Keys.ENTER)\n",
    "        time.sleep(10)\n",
    "\n",
    "    "
   ]
  },
  {
   "cell_type": "code",
   "execution_count": null,
   "id": "e1a300b5",
   "metadata": {},
   "outputs": [],
   "source": []
  },
  {
   "cell_type": "code",
   "execution_count": null,
   "id": "0b0da2b7",
   "metadata": {},
   "outputs": [],
   "source": []
  }
 ],
 "metadata": {
  "kernelspec": {
   "display_name": "Python 3.9.12 ('base')",
   "language": "python",
   "name": "python3"
  },
  "language_info": {
   "codemirror_mode": {
    "name": "ipython",
    "version": 3
   },
   "file_extension": ".py",
   "mimetype": "text/x-python",
   "name": "python",
   "nbconvert_exporter": "python",
   "pygments_lexer": "ipython3",
   "version": "3.9.12"
  },
  "vscode": {
   "interpreter": {
    "hash": "570a6cd6fa058521507757ba93289ca56b4c7dde888b86f0e67e32b01fa94eba"
   }
  }
 },
 "nbformat": 4,
 "nbformat_minor": 5
}
