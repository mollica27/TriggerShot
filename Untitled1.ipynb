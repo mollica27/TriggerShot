{
 "cells": [
  {
   "cell_type": "code",
   "execution_count": null,
   "id": "f9926507",
   "metadata": {},
   "outputs": [],
   "source": [
    "import pandas as pd\n",
    "\n",
    "contatos_df = pd.read_excel(\"Enviar.xlsx\")\n",
    "\n",
    "from selenium import webdriver\n",
    "from webdriver_manager.chrome import ChromeDriverManager\n",
    "from selenium.webdriver.chrome.service import Service\n",
    "from selenium.webdriver.common.by import By\n",
    "from selenium.webdriver.common.keys import Keys\n",
    "import time\n",
    "import urllib\n",
    "\n",
    "servico = Service(ChromeDriverManager().install())\n",
    "\n",
    "navegador = webdriver.Chrome(service=servico)\n",
    "navegador.get(\"https://web.whatsapp.com/\")\n",
    "\n",
    "while len(navegador.find_elements(By.ID,'side')) < 1:\n",
    "    time.sleep(1)\n",
    "\n",
    "# já estamos com o login feito no whatsapp web\n",
    "for i, mensagem in enumerate(contatos_df['Mensagem']):\n",
    "    pessoa = contatos_df.loc[i, \"Pessoa\"]\n",
    "    numero = contatos_df.loc[i, \"Número\"]\n",
    "    texto = urllib.parse.quote(f\"Oi {pessoa}! {mensagem}\")\n",
    "    link = f\"https://web.whatsapp.com/send?phone={numero}&text={texto}\"\n",
    "    navegador.get(link)\n",
    "    \n",
    "    while len(navegador.find_elements(By.ID,'side')) < 1:\n",
    "        time.sleep(1)\n",
    "        \n",
    "    navegador.find_element(By.XPATH,'//*[@id=\"main\"]/footer/div[1]/div/span[2]/div/div[2]/div[2]/button/span').click()\n",
    "    time.sleep(10)\n",
    "    "
   ]
  },
  {
   "cell_type": "code",
   "execution_count": null,
   "id": "561d393e",
   "metadata": {},
   "outputs": [],
   "source": []
  },
  {
   "cell_type": "code",
   "execution_count": null,
   "id": "c1165a1d",
   "metadata": {},
   "outputs": [],
   "source": []
  }
 ],
 "metadata": {
  "kernelspec": {
   "display_name": "Python 3 (ipykernel)",
   "language": "python",
   "name": "python3"
  },
  "language_info": {
   "codemirror_mode": {
    "name": "ipython",
    "version": 3
   },
   "file_extension": ".py",
   "mimetype": "text/x-python",
   "name": "python",
   "nbconvert_exporter": "python",
   "pygments_lexer": "ipython3",
   "version": "3.9.12"
  }
 },
 "nbformat": 4,
 "nbformat_minor": 5
}
